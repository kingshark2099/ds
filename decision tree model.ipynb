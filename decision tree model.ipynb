{
 "cells": [
  {
   "cell_type": "code",
   "execution_count": 1,
   "id": "f847461b-9e2e-44fe-9d38-ba359b9c80ef",
   "metadata": {},
   "outputs": [],
   "source": [
    "import pandas as pd\n",
    "from sklearn.metrics import mean_absolute_error\n",
    "from sklearn.model_selection import train_test_split\n",
    "from sklearn.tree import DecisionTreeRegressor"
   ]
  },
  {
   "cell_type": "code",
   "execution_count": 2,
   "id": "229a03f7-570b-4d2c-957b-e27bc0e26f31",
   "metadata": {},
   "outputs": [],
   "source": [
    "# Mean absolute error function\n",
    "def get_mae(max_leaf_nodes, train_X, val_X, train_y, val_y):\n",
    "    model = DecisionTreeRegressor(max_leaf_nodes=max_leaf_nodes, random_state=0)\n",
    "    model.fit(train_X, train_y)\n",
    "    preds_val = model.predict(val_X)\n",
    "    mae = mean_absolute_error(val_y, preds_val)\n",
    "    return(mae)"
   ]
  },
  {
   "cell_type": "code",
   "execution_count": 4,
   "id": "3065bfea-b0ee-41d9-93b2-188334e12d0f",
   "metadata": {},
   "outputs": [],
   "source": [
    "# read data\n",
    "test_data = pd.read_csv(\"test data.csv\")\n",
    "train_data = pd.read_csv(\"train data.csv\")"
   ]
  },
  {
   "cell_type": "code",
   "execution_count": 5,
   "id": "6cbaf1d4-6a32-4688-b58f-f757ea1a1bc8",
   "metadata": {},
   "outputs": [],
   "source": [
    "# Create x object\n",
    "features = ['LotArea', 'YearBuilt', '1stFlrSF', '2ndFlrSF', 'FullBath', 'BedroomAbvGr', 'TotRmsAbvGrd']\n",
    "x = train_data[features]\n",
    "\n",
    "# Create target object\n",
    "y = train_data.SalePrice"
   ]
  },
  {
   "cell_type": "code",
   "execution_count": 6,
   "id": "220d64d1-9514-469a-8109-e2ae8413f189",
   "metadata": {},
   "outputs": [],
   "source": [
    "# Split data into training & validation data\n",
    "train_x, val_x, train_y, val_y = train_test_split(x, y, random_state=1)"
   ]
  },
  {
   "cell_type": "code",
   "execution_count": 7,
   "id": "5239d60e-728e-416a-b43d-e3228a591401",
   "metadata": {},
   "outputs": [],
   "source": [
    "# List of leaf nodes\n",
    "candidate_max_leaf_nodes = [5, 25, 50, 100, 250, 500]\n",
    "\n",
    "# Find the ideal leaf nodes from candidate_max_leaf_nodes\n",
    "leaves = {}\n",
    "for leaf in candidate_max_leaf_nodes:\n",
    "    leaves[leaf] = get_mae(leaf, train_x, val_x, train_y, val_y)\n",
    "best_tree_size = min(leaves, key=leaves.get)"
   ]
  },
  {
   "cell_type": "code",
   "execution_count": 8,
   "id": "54148dd8-b046-4d7c-b745-e02f3f46a9b7",
   "metadata": {},
   "outputs": [],
   "source": [
    "# modelling data\n",
    "# validated model with max_leaf_nodes argument\n",
    "model = DecisionTreeRegressor(max_leaf_nodes=best_tree_size, random_state=1)"
   ]
  },
  {
   "cell_type": "code",
   "execution_count": 9,
   "id": "30285bbe-79af-4be5-b9d8-bcbdfb22ba55",
   "metadata": {},
   "outputs": [
    {
     "data": {
      "text/plain": [
       "DecisionTreeRegressor(max_leaf_nodes=100, random_state=1)"
      ]
     },
     "execution_count": 9,
     "metadata": {},
     "output_type": "execute_result"
    }
   ],
   "source": [
    "# fit the model\n",
    "model.fit(x, y)"
   ]
  },
  {
   "cell_type": "code",
   "execution_count": 10,
   "id": "0ee7ae5c-f7de-469a-b2cd-df21cbc4e546",
   "metadata": {},
   "outputs": [],
   "source": [
    "# prediction \n",
    "predictions = model.predict(val_x)\n",
    "# mean absolute error\n",
    "mae = mean_absolute_error(val_y, predictions)"
   ]
  },
  {
   "cell_type": "code",
   "execution_count": 11,
   "id": "61aa8803-fc91-401e-9fc5-7d16ea9c8fb5",
   "metadata": {},
   "outputs": [
    {
     "name": "stdout",
     "output_type": "stream",
     "text": [
      "mean absolute error:  16815.938748057826\n",
      "First in-sample predictions:\n"
     ]
    },
    {
     "data": {
      "text/plain": [
       "array([182392.31944444, 163142.5       , 125362.57333333,  70167.58333333,\n",
       "       146415.0075188 , 332156.        , 270325.        , 159006.60714286,\n",
       "       228735.80645161, 268500.        ])"
      ]
     },
     "execution_count": 11,
     "metadata": {},
     "output_type": "execute_result"
    }
   ],
   "source": [
    "# result\n",
    "print(\"mean absolute error: \", mae)\n",
    "print(\"First in-sample predictions:\")\n",
    "predictions[:10]"
   ]
  },
  {
   "cell_type": "code",
   "execution_count": 12,
   "id": "f2feec94-8543-4690-a4a0-f850532620b6",
   "metadata": {},
   "outputs": [],
   "source": [
    "# test data\n",
    "# create x object\n",
    "test = test_data[features]\n",
    "# result\n",
    "predict = model.predict(test)"
   ]
  },
  {
   "cell_type": "code",
   "execution_count": null,
   "id": "14c42420-d78d-4bc2-8f90-499a6489afa5",
   "metadata": {},
   "outputs": [],
   "source": []
  }
 ],
 "metadata": {
  "kernelspec": {
   "display_name": "Python 3 (ipykernel)",
   "language": "python",
   "name": "python3"
  },
  "language_info": {
   "codemirror_mode": {
    "name": "ipython",
    "version": 3
   },
   "file_extension": ".py",
   "mimetype": "text/x-python",
   "name": "python",
   "nbconvert_exporter": "python",
   "pygments_lexer": "ipython3",
   "version": "3.7.12"
  }
 },
 "nbformat": 4,
 "nbformat_minor": 5
}
