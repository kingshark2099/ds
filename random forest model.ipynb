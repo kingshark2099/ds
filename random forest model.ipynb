{
 "cells": [
  {
   "cell_type": "code",
   "execution_count": 1,
   "id": "3f9b4e54-a189-43b2-82b0-16b3a5e78a3f",
   "metadata": {},
   "outputs": [],
   "source": [
    "import pandas as pd\n",
    "from sklearn.metrics import mean_absolute_error\n",
    "from sklearn.model_selection import train_test_split\n",
    "from sklearn.ensemble import RandomForestRegressor"
   ]
  },
  {
   "cell_type": "code",
   "execution_count": 2,
   "id": "23d58ed9-b8d7-4202-9de8-0d04b5691233",
   "metadata": {},
   "outputs": [],
   "source": [
    "# Function for comparing different models\n",
    "def score_model(model, x_train, x_valid, y_train, y_valid):\n",
    "    model.fit(x_train, y_train)\n",
    "    preds = model.predict(x_valid)\n",
    "    return mean_absolute_error(y_valid, preds)"
   ]
  },
  {
   "cell_type": "code",
   "execution_count": 3,
   "id": "63c2c121-7496-4c80-a782-ede5882ac877",
   "metadata": {},
   "outputs": [],
   "source": [
    "# read data\n",
    "test_data = pd.read_csv(\"test data.csv\")\n",
    "train_data = pd.read_csv(\"train data.csv\")"
   ]
  },
  {
   "cell_type": "code",
   "execution_count": 4,
   "id": "35994e05-6542-4ae1-9c11-d990bc35132f",
   "metadata": {},
   "outputs": [],
   "source": [
    "# train data\n",
    "# use only numerical data\n",
    "x = train_data.drop(['SalePrice'], axis=1).select_dtypes(exclude=['object'])\n",
    "# Create target object\n",
    "y = train_data.SalePrice"
   ]
  },
  {
   "cell_type": "code",
   "execution_count": 5,
   "id": "15603ecc-703a-4a50-8d47-36b8607a32a3",
   "metadata": {},
   "outputs": [],
   "source": [
    "# Break off validation set from training data\n",
    "x_train, x_valid, y_train, y_valid = train_test_split(x, y, train_size=0.8, test_size=0.2,\n",
    "                                                      random_state=0)"
   ]
  },
  {
   "cell_type": "code",
   "execution_count": 6,
   "id": "456bf4ba-961c-4aca-b4e2-9842b2fe65dc",
   "metadata": {},
   "outputs": [
    {
     "name": "stdout",
     "output_type": "stream",
     "text": [
      "LotFrontage    212\n",
      "MasVnrArea       6\n",
      "GarageYrBlt     58\n",
      "dtype: int64\n"
     ]
    }
   ],
   "source": [
    "# investigate how many missing values by column\n",
    "missing_values = (x_train.isnull().sum())\n",
    "print(missing_values[missing_values > 0])"
   ]
  },
  {
   "cell_type": "code",
   "execution_count": 9,
   "id": "175d0600-10ec-425c-81ea-3989bae85bd6",
   "metadata": {},
   "outputs": [],
   "source": [
    "# Handling missing values\n",
    "# Drop column with missing values\n",
    "# Fill in the line below: get names of columns with missing values\n",
    "cols_with_missing = [col for col in x_train.columns\n",
    "                     if x_train[col].isnull().any()]\n",
    "\n",
    "# Fill in the lines below: drop columns in training and validation data\n",
    "reduced_x_train = x_train.drop(cols_with_missing, axis=1)\n",
    "reduced_x_valid = x_valid.drop(cols_with_missing, axis=1)"
   ]
  },
  {
   "cell_type": "code",
   "execution_count": 8,
   "id": "4976b990-8abb-4bcb-bad6-890bf6f58356",
   "metadata": {},
   "outputs": [],
   "source": [
    "# Define the models\n",
    "model_1 = RandomForestRegressor(n_estimators=50, random_state=0)\n",
    "model_2 = RandomForestRegressor(n_estimators=100, random_state=0)\n",
    "model_3 = RandomForestRegressor(n_estimators=100, criterion='absolute_error', random_state=0)\n",
    "model_4 = RandomForestRegressor(n_estimators=200, min_samples_split=20, random_state=0)\n",
    "model_5 = RandomForestRegressor(n_estimators=100, max_depth=7, random_state=0)\n",
    "\n",
    "models = [model_1, model_2, model_3, model_4, model_5]\n"
   ]
  },
  {
   "cell_type": "code",
   "execution_count": null,
   "id": "58a6aa3f-46be-4e53-8e81-ea4fb5b8a653",
   "metadata": {},
   "outputs": [],
   "source": [
    "# Find the best model\n",
    "model = {}\n",
    "for m in models:\n",
    "    model[m] = score_model(m, reduced_x_train, reduced_x_valid, y_train, y_valid)\n",
    "best_model = min(model, key=model.get)"
   ]
  },
  {
   "cell_type": "code",
   "execution_count": null,
   "id": "db378768-c047-4837-8202-d0f852df5a53",
   "metadata": {},
   "outputs": [],
   "source": [
    "# fit the model\n",
    "best_model.fit(x, y)"
   ]
  },
  {
   "cell_type": "code",
   "execution_count": 11,
   "id": "a0aa9d3b-99f1-4494-a24e-5295c082cf27",
   "metadata": {},
   "outputs": [
    {
     "name": "stdout",
     "output_type": "stream",
     "text": [
      "Mean absolute error:  8518.100212328769\n"
     ]
    }
   ],
   "source": [
    "# predict the test\n",
    "predictions = best_model.predict(x)\n",
    "mae = mean_absolute_error(predictions, y)\n",
    "print(\"Mean absolute error: \", mae)"
   ]
  },
  {
   "cell_type": "code",
   "execution_count": 12,
   "id": "8d87dd1a-43ce-46b1-96c3-77f2cea7233c",
   "metadata": {},
   "outputs": [],
   "source": [
    "# test data\n",
    "test = test_data[features]\n",
    "# predict the train data\n",
    "predict = best_model.predict(test)"
   ]
  },
  {
   "cell_type": "code",
   "execution_count": 16,
   "id": "91343daa-254d-4178-b453-df4eed0d8fe0",
   "metadata": {},
   "outputs": [
    {
     "name": "stdout",
     "output_type": "stream",
     "text": [
      "Price prediction of the test data:\n"
     ]
    },
    {
     "data": {
      "text/plain": [
       "array([119433.08, 158367.5 , 185351.21, ..., 156296.92, 132232.5 ,\n",
       "       230870.6 ])"
      ]
     },
     "execution_count": 16,
     "metadata": {},
     "output_type": "execute_result"
    }
   ],
   "source": [
    "# result of the predictions\n",
    "print(\"Price prediction of the test data:\")\n",
    "predict"
   ]
  },
  {
   "cell_type": "code",
   "execution_count": null,
   "id": "866f11ce-9ab9-4593-b3ed-2e331df9e035",
   "metadata": {},
   "outputs": [],
   "source": []
  }
 ],
 "metadata": {
  "kernelspec": {
   "display_name": "Python 3 (ipykernel)",
   "language": "python",
   "name": "python3"
  },
  "language_info": {
   "codemirror_mode": {
    "name": "ipython",
    "version": 3
   },
   "file_extension": ".py",
   "mimetype": "text/x-python",
   "name": "python",
   "nbconvert_exporter": "python",
   "pygments_lexer": "ipython3",
   "version": "3.7.12"
  }
 },
 "nbformat": 4,
 "nbformat_minor": 5
}
