{
 "cells": [
  {
   "cell_type": "code",
   "execution_count": 10,
   "id": "51209156-bf03-4af8-9b6b-5b5c3116abd7",
   "metadata": {},
   "outputs": [],
   "source": [
    "import pandas as pd\n",
    "from sklearn.metrics import mean_absolute_error\n",
    "from sklearn.model_selection import train_test_split\n",
    "from sklearn.ensemble import RandomForestRegressor\n",
    "from sklearn.impute import SimpleImputer"
   ]
  },
  {
   "cell_type": "code",
   "execution_count": 11,
   "id": "777390e9-de26-4334-a94b-bf483186a938",
   "metadata": {},
   "outputs": [],
   "source": [
    "# Function for comparing different models\n",
    "def score_model(model, x_train, x_valid, y_train, y_valid):\n",
    "    model.fit(x_train, y_train)\n",
    "    preds = model.predict(x_valid)\n",
    "    return mean_absolute_error(y_valid, preds)"
   ]
  },
  {
   "cell_type": "code",
   "execution_count": 12,
   "id": "620bcb07-f3bc-4012-ab98-89a0299483e2",
   "metadata": {},
   "outputs": [],
   "source": [
    "# read data\n",
    "test_data = pd.read_csv(\"test data.csv\")\n",
    "train_data = pd.read_csv(\"train data.csv\")"
   ]
  },
  {
   "cell_type": "code",
   "execution_count": 13,
   "id": "e652cc81-b2bb-4f8e-a929-c5c1f19ed11d",
   "metadata": {},
   "outputs": [],
   "source": [
    "# train data\n",
    "# use only numerical data\n",
    "x = train_data.drop(['SalePrice'], axis=1).select_dtypes(exclude=['object'])\n",
    "# Create target object\n",
    "y = train_data.SalePrice"
   ]
  },
  {
   "cell_type": "code",
   "execution_count": 14,
   "id": "c7559fef-ba0d-4ca0-8636-e8927b4a872c",
   "metadata": {},
   "outputs": [],
   "source": [
    "# Divide data into training and validation data\n",
    "x_train, x_valid, y_train, y_valid = train_test_split(x, y, train_size=0.8, test_size=0.2,\n",
    "                                                      random_state=0)"
   ]
  },
  {
   "cell_type": "code",
   "execution_count": 15,
   "id": "a319e4fa-654c-44af-8556-13cd461c5443",
   "metadata": {},
   "outputs": [
    {
     "name": "stdout",
     "output_type": "stream",
     "text": [
      "LotFrontage    212\n",
      "MasVnrArea       6\n",
      "GarageYrBlt     58\n",
      "dtype: int64\n"
     ]
    }
   ],
   "source": [
    "# check how many missing values by column\n",
    "missing_values = (x_train.isnull().sum())\n",
    "print(missing_values[missing_values > 0])"
   ]
  },
  {
   "cell_type": "code",
   "execution_count": 16,
   "id": "537b0b7c-de6e-42c7-9970-45c4d1931df3",
   "metadata": {},
   "outputs": [
    {
     "name": "stdout",
     "output_type": "stream",
     "text": [
      "MAE from Approach 1 (Drop columns with missing values):\n",
      "19003.3198630137\n"
     ]
    }
   ],
   "source": [
    "# Missing values: Drop columns\n",
    "# get names of columns with missing values\n",
    "cols_with_missing = [col for col in x_train.columns\n",
    "                     if x_train[col].isnull().any()]\n",
    "# Drop columns in training and validation data\n",
    "reduced_x_train = x_train.drop(cols_with_missing, axis=1)\n",
    "reduced_x_valid = x_valid.drop(cols_with_missing, axis=1)\n",
    "\n",
    "# get mae\n",
    "print(\"MAE from Approach 1 (Drop columns with missing values):\")\n",
    "print(score_dataset(reduced_x_train, reduced_x_valid, y_train, y_valid))"
   ]
  },
  {
   "cell_type": "code",
   "execution_count": 17,
   "id": "64b5e11a-6103-4885-a2b9-113a4b38bb40",
   "metadata": {},
   "outputs": [
    {
     "name": "stdout",
     "output_type": "stream",
     "text": [
      "MAE from Approach 2 (Imputation):\n",
      "19243.57294520548\n"
     ]
    }
   ],
   "source": [
    "# Missing values: Imputation\n",
    "my_imputer = SimpleImputer()\n",
    "imputed_x_train = pd.DataFrame(my_imputer.fit_transform(x_train))\n",
    "imputed_x_valid = pd.DataFrame(my_imputer.transform(x_valid))\n",
    "\n",
    "# Imputation removed column names; put them back\n",
    "imputed_x_train.columns = x_train.columns\n",
    "imputed_x_valid.columns = x_valid.columns\n",
    "\n",
    "print(\"MAE from Approach 2 (Imputation):\")\n",
    "print(score_dataset(imputed_x_train, imputed_x_valid, y_train, y_valid))"
   ]
  },
  {
   "cell_type": "code",
   "execution_count": 18,
   "id": "a2952e37-8b10-4ca6-9efb-4c11f94ebf49",
   "metadata": {},
   "outputs": [
    {
     "name": "stdout",
     "output_type": "stream",
     "text": [
      "MAE from Approach 3 (An Extension to Imputation):\n",
      "19349.617465753425\n"
     ]
    }
   ],
   "source": [
    "# Missing values: extended imputation\n",
    "# Make copy to avoid changing original data (when imputing)\n",
    "x_train_plus = x_train.copy()\n",
    "x_valid_plus = x_valid.copy()\n",
    "\n",
    "# Make new columns indicating what will be imputed\n",
    "for col in cols_with_missing:\n",
    "    x_train_plus[col + ' was missing'] = x_train_plus[col].isnull()\n",
    "    x_valid_plus[col + ' was missing'] = x_valid_plus[col].isnull()\n",
    "\n",
    "# Imputation\n",
    "my_imputer = SimpleImputer()\n",
    "imputed_x_train_plus = pd.DataFrame(my_imputer.fit_transform(x_train_plus))\n",
    "imputed_x_valid_plus = pd.DataFrame(my_imputer.transform(x_valid_plus))\n",
    "\n",
    "# Imputation removed column names; put them back\n",
    "imputed_x_train_plus.columns = x_train_plus.columns\n",
    "imputed_x_valid_plus.columns = x_valid_plus.columns\n",
    "\n",
    "print(\"MAE from Approach 3 (An Extension to Imputation):\")\n",
    "print(score_dataset(imputed_x_train_plus, imputed_x_valid_plus, y_train, y_valid))"
   ]
  },
  {
   "cell_type": "code",
   "execution_count": null,
   "id": "054ad8a6-1a1e-43fb-9e65-7be9b17a267f",
   "metadata": {},
   "outputs": [],
   "source": []
  }
 ],
 "metadata": {
  "kernelspec": {
   "display_name": "Python 3 (ipykernel)",
   "language": "python",
   "name": "python3"
  },
  "language_info": {
   "codemirror_mode": {
    "name": "ipython",
    "version": 3
   },
   "file_extension": ".py",
   "mimetype": "text/x-python",
   "name": "python",
   "nbconvert_exporter": "python",
   "pygments_lexer": "ipython3",
   "version": "3.7.12"
  }
 },
 "nbformat": 4,
 "nbformat_minor": 5
}
