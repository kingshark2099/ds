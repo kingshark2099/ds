{
 "cells": [
  {
   "cell_type": "code",
   "execution_count": 19,
   "id": "51209156-bf03-4af8-9b6b-5b5c3116abd7",
   "metadata": {},
   "outputs": [],
   "source": [
    "import pandas as pd\n",
    "from sklearn.metrics import mean_absolute_error\n",
    "from sklearn.model_selection import train_test_split\n",
    "from sklearn.ensemble import RandomForestRegressor\n",
    "from sklearn.impute import SimpleImputer"
   ]
  },
  {
   "cell_type": "code",
   "execution_count": 16,
   "id": "777390e9-de26-4334-a94b-bf483186a938",
   "metadata": {},
   "outputs": [],
   "source": [
    "# Function for comparing different models\n",
    "def score_dataset(x_train, x_valid, y_train, y_valid):\n",
    "    model = RandomForestRegressor(n_estimators=10, random_state=0)\n",
    "    model.fit(x_train, y_train)\n",
    "    preds = model.predict(x_valid)\n",
    "    return mean_absolute_error(y_valid, preds)"
   ]
  },
  {
   "cell_type": "code",
   "execution_count": 9,
   "id": "620bcb07-f3bc-4012-ab98-89a0299483e2",
   "metadata": {},
   "outputs": [],
   "source": [
    "# Read data\n",
    "data = pd.read_csv(\"melbourne data.csv\")\n",
    "\n",
    "# target object\n",
    "y = data.Price\n",
    "\n",
    "# predictor\n",
    "# get data without price column\n",
    "predictor = data.drop(['Price'], axis=1)\n",
    "# get numerical data only\n",
    "x = predictor.select_dtypes(exclude=['object'])"
   ]
  },
  {
   "cell_type": "code",
   "execution_count": 11,
   "id": "c7559fef-ba0d-4ca0-8636-e8927b4a872c",
   "metadata": {},
   "outputs": [],
   "source": [
    "# Divide data into training and validation data\n",
    "x_train, x_valid, y_train, y_valid = train_test_split(x, y, train_size=0.8, test_size=0.2,\n",
    "                                                      random_state=0)"
   ]
  },
  {
   "cell_type": "code",
   "execution_count": 18,
   "id": "537b0b7c-de6e-42c7-9970-45c4d1931df3",
   "metadata": {},
   "outputs": [
    {
     "name": "stdout",
     "output_type": "stream",
     "text": [
      "MAE from Approach 1 (Drop columns with missing values):\n",
      "183550.22137772635\n"
     ]
    }
   ],
   "source": [
    "# Missing values\n",
    "# 1.Drop columns\n",
    "# get names of columns with missing values\n",
    "cols_with_missing = [col for col in x_train.columns\n",
    "                     if x_train[col].isnull().any()]\n",
    "# Drop columns in training and validation data\n",
    "reduced_x_train = x_train.drop(cols_with_missing, axis=1)\n",
    "reduced_x_valid = x_valid.drop(cols_with_missing, axis=1)\n",
    "\n",
    "# get mae\n",
    "print(\"MAE from Approach 1 (Drop columns with missing values):\")\n",
    "print(score_dataset(reduced_x_train, reduced_x_valid, y_train, y_valid))"
   ]
  },
  {
   "cell_type": "code",
   "execution_count": 24,
   "id": "64b5e11a-6103-4885-a2b9-113a4b38bb40",
   "metadata": {},
   "outputs": [
    {
     "name": "stdout",
     "output_type": "stream",
     "text": [
      "MAE from Approach 2 (Imputation):\n",
      "178166.46269899711\n"
     ]
    }
   ],
   "source": [
    "# Missing values\n",
    "# 2. Imputation\n",
    "my_imputer = SimpleImputer()\n",
    "imputed_x_train = pd.DataFrame(my_imputer.fit_transform(x_train))\n",
    "imputed_x_valid = pd.DataFrame(my_imputer.transform(x_valid))\n",
    "\n",
    "# Imputation removed column names; put them back\n",
    "imputed_x_train.columns = x_train.columns\n",
    "imputed_x_valid.columns = x_valid.columns\n",
    "\n",
    "print(\"MAE from Approach 2 (Imputation):\")\n",
    "print(score_dataset(imputed_x_train, imputed_x_valid, y_train, y_valid))"
   ]
  },
  {
   "cell_type": "code",
   "execution_count": 28,
   "id": "a2952e37-8b10-4ca6-9efb-4c11f94ebf49",
   "metadata": {},
   "outputs": [
    {
     "name": "stdout",
     "output_type": "stream",
     "text": [
      "MAE from Approach 3 (An Extension to Imputation):\n",
      "178927.503183954\n"
     ]
    }
   ],
   "source": [
    "# Make copy to avoid changing original data (when imputing)\n",
    "x_train_plus = x_train.copy()\n",
    "x_valid_plus = x_valid.copy()\n",
    "\n",
    "# Make new columns indicating what will be imputed\n",
    "for col in cols_with_missing:\n",
    "    x_train_plus[col + ' was missing'] = x_train_plus[col].isnull()\n",
    "    x_valid_plus[col + ' was missing'] = x_valid_plus[col].isnull()\n",
    "\n",
    "# Imputation\n",
    "my_imputer = SimpleImputer()\n",
    "imputed_x_train_plus = pd.DataFrame(my_imputer.fit_transform(x_train_plus))\n",
    "imputed_x_valid_plus = pd.DataFrame(my_imputer.transform(x_valid_plus))\n",
    "\n",
    "# Imputation removed column names; put them back\n",
    "imputed_x_train_plus.columns = x_train_plus.columns\n",
    "imputed_x_valid_plus.columns = x_valid_plus.columns\n",
    "\n",
    "print(\"MAE from Approach 3 (An Extension to Imputation):\")\n",
    "print(score_dataset(imputed_x_train_plus, imputed_x_valid_plus, y_train, y_valid))"
   ]
  },
  {
   "cell_type": "code",
   "execution_count": 31,
   "id": "1dc9ff73-fba5-4866-919b-d4dfbe6ede39",
   "metadata": {},
   "outputs": [
    {
     "data": {
      "text/html": [
       "<div>\n",
       "<style scoped>\n",
       "    .dataframe tbody tr th:only-of-type {\n",
       "        vertical-align: middle;\n",
       "    }\n",
       "\n",
       "    .dataframe tbody tr th {\n",
       "        vertical-align: top;\n",
       "    }\n",
       "\n",
       "    .dataframe thead th {\n",
       "        text-align: right;\n",
       "    }\n",
       "</style>\n",
       "<table border=\"1\" class=\"dataframe\">\n",
       "  <thead>\n",
       "    <tr style=\"text-align: right;\">\n",
       "      <th></th>\n",
       "      <th>Rooms</th>\n",
       "      <th>Distance</th>\n",
       "      <th>Postcode</th>\n",
       "      <th>Bedroom2</th>\n",
       "      <th>Bathroom</th>\n",
       "      <th>Car</th>\n",
       "      <th>Landsize</th>\n",
       "      <th>BuildingArea</th>\n",
       "      <th>YearBuilt</th>\n",
       "      <th>Lattitude</th>\n",
       "      <th>Longtitude</th>\n",
       "      <th>Propertycount</th>\n",
       "      <th>Car was missing</th>\n",
       "      <th>BuildingArea was missing</th>\n",
       "      <th>YearBuilt was missing</th>\n",
       "    </tr>\n",
       "  </thead>\n",
       "  <tbody>\n",
       "    <tr>\n",
       "      <th>0</th>\n",
       "      <td>1.0</td>\n",
       "      <td>5.0</td>\n",
       "      <td>3182.0</td>\n",
       "      <td>1.0</td>\n",
       "      <td>1.0</td>\n",
       "      <td>1.0</td>\n",
       "      <td>0.0</td>\n",
       "      <td>153.764119</td>\n",
       "      <td>1940.000000</td>\n",
       "      <td>-37.85984</td>\n",
       "      <td>144.9867</td>\n",
       "      <td>13240.0</td>\n",
       "      <td>0.0</td>\n",
       "      <td>1.0</td>\n",
       "      <td>0.0</td>\n",
       "    </tr>\n",
       "    <tr>\n",
       "      <th>1</th>\n",
       "      <td>2.0</td>\n",
       "      <td>8.0</td>\n",
       "      <td>3016.0</td>\n",
       "      <td>2.0</td>\n",
       "      <td>2.0</td>\n",
       "      <td>1.0</td>\n",
       "      <td>193.0</td>\n",
       "      <td>153.764119</td>\n",
       "      <td>1964.839866</td>\n",
       "      <td>-37.85800</td>\n",
       "      <td>144.9005</td>\n",
       "      <td>6380.0</td>\n",
       "      <td>0.0</td>\n",
       "      <td>1.0</td>\n",
       "      <td>1.0</td>\n",
       "    </tr>\n",
       "    <tr>\n",
       "      <th>2</th>\n",
       "      <td>3.0</td>\n",
       "      <td>12.6</td>\n",
       "      <td>3020.0</td>\n",
       "      <td>3.0</td>\n",
       "      <td>1.0</td>\n",
       "      <td>1.0</td>\n",
       "      <td>555.0</td>\n",
       "      <td>153.764119</td>\n",
       "      <td>1964.839866</td>\n",
       "      <td>-37.79880</td>\n",
       "      <td>144.8220</td>\n",
       "      <td>3755.0</td>\n",
       "      <td>0.0</td>\n",
       "      <td>1.0</td>\n",
       "      <td>1.0</td>\n",
       "    </tr>\n",
       "    <tr>\n",
       "      <th>3</th>\n",
       "      <td>3.0</td>\n",
       "      <td>13.0</td>\n",
       "      <td>3046.0</td>\n",
       "      <td>3.0</td>\n",
       "      <td>1.0</td>\n",
       "      <td>1.0</td>\n",
       "      <td>265.0</td>\n",
       "      <td>153.764119</td>\n",
       "      <td>1995.000000</td>\n",
       "      <td>-37.70830</td>\n",
       "      <td>144.9158</td>\n",
       "      <td>8870.0</td>\n",
       "      <td>0.0</td>\n",
       "      <td>1.0</td>\n",
       "      <td>0.0</td>\n",
       "    </tr>\n",
       "    <tr>\n",
       "      <th>4</th>\n",
       "      <td>3.0</td>\n",
       "      <td>13.3</td>\n",
       "      <td>3020.0</td>\n",
       "      <td>3.0</td>\n",
       "      <td>1.0</td>\n",
       "      <td>2.0</td>\n",
       "      <td>673.0</td>\n",
       "      <td>673.000000</td>\n",
       "      <td>1970.000000</td>\n",
       "      <td>-37.76230</td>\n",
       "      <td>144.8272</td>\n",
       "      <td>4217.0</td>\n",
       "      <td>0.0</td>\n",
       "      <td>0.0</td>\n",
       "      <td>0.0</td>\n",
       "    </tr>\n",
       "  </tbody>\n",
       "</table>\n",
       "</div>"
      ],
      "text/plain": [
       "   Rooms  Distance  Postcode  Bedroom2  Bathroom  Car  Landsize  BuildingArea  \\\n",
       "0    1.0       5.0    3182.0       1.0       1.0  1.0       0.0    153.764119   \n",
       "1    2.0       8.0    3016.0       2.0       2.0  1.0     193.0    153.764119   \n",
       "2    3.0      12.6    3020.0       3.0       1.0  1.0     555.0    153.764119   \n",
       "3    3.0      13.0    3046.0       3.0       1.0  1.0     265.0    153.764119   \n",
       "4    3.0      13.3    3020.0       3.0       1.0  2.0     673.0    673.000000   \n",
       "\n",
       "     YearBuilt  Lattitude  Longtitude  Propertycount  Car was missing  \\\n",
       "0  1940.000000  -37.85984    144.9867        13240.0              0.0   \n",
       "1  1964.839866  -37.85800    144.9005         6380.0              0.0   \n",
       "2  1964.839866  -37.79880    144.8220         3755.0              0.0   \n",
       "3  1995.000000  -37.70830    144.9158         8870.0              0.0   \n",
       "4  1970.000000  -37.76230    144.8272         4217.0              0.0   \n",
       "\n",
       "   BuildingArea was missing  YearBuilt was missing  \n",
       "0                       1.0                    0.0  \n",
       "1                       1.0                    1.0  \n",
       "2                       1.0                    1.0  \n",
       "3                       1.0                    0.0  \n",
       "4                       0.0                    0.0  "
      ]
     },
     "execution_count": 31,
     "metadata": {},
     "output_type": "execute_result"
    }
   ],
   "source": [
    "imputed_x_train_plus.head()"
   ]
  },
  {
   "cell_type": "code",
   "execution_count": null,
   "id": "054ad8a6-1a1e-43fb-9e65-7be9b17a267f",
   "metadata": {},
   "outputs": [],
   "source": []
  }
 ],
 "metadata": {
  "kernelspec": {
   "display_name": "Python 3 (ipykernel)",
   "language": "python",
   "name": "python3"
  },
  "language_info": {
   "codemirror_mode": {
    "name": "ipython",
    "version": 3
   },
   "file_extension": ".py",
   "mimetype": "text/x-python",
   "name": "python",
   "nbconvert_exporter": "python",
   "pygments_lexer": "ipython3",
   "version": "3.7.12"
  }
 },
 "nbformat": 4,
 "nbformat_minor": 5
}
